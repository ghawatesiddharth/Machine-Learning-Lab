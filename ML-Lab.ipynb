{
 "cells": [
  {
   "cell_type": "code",
   "execution_count": 4,
   "id": "77823c1f",
   "metadata": {},
   "outputs": [
    {
     "name": "stdout",
     "output_type": "stream",
     "text": [
      "   S.No.                              Name    Location  Year  \\\n",
      "0      0            Maruti Wagon R LXI CNG      Mumbai  2010   \n",
      "1      1  Hyundai Creta 1.6 CRDi SX Option        Pune  2015   \n",
      "2      2                      Honda Jazz V     Chennai  2011   \n",
      "3      3                 Maruti Ertiga VDI     Chennai  2012   \n",
      "4      4   Audi A4 New 2.0 TDI Multitronic  Coimbatore  2013   \n",
      "\n",
      "   Kilometers_Driven Fuel_Type Transmission Owner_Type     Mileage   Engine  \\\n",
      "0              72000       CNG       Manual      First  26.6 km/kg   998 CC   \n",
      "1              41000    Diesel       Manual      First  19.67 kmpl  1582 CC   \n",
      "2              46000    Petrol       Manual      First   18.2 kmpl  1199 CC   \n",
      "3              87000    Diesel       Manual      First  20.77 kmpl  1248 CC   \n",
      "4              40670    Diesel    Automatic     Second   15.2 kmpl  1968 CC   \n",
      "\n",
      "       Power  Seats  New_Price  Price  \n",
      "0  58.16 bhp    5.0        NaN   1.75  \n",
      "1  126.2 bhp    5.0        NaN  12.50  \n",
      "2   88.7 bhp    5.0  8.61 Lakh   4.50  \n",
      "3  88.76 bhp    7.0        NaN   6.00  \n",
      "4  140.8 bhp    5.0        NaN  17.74  \n"
     ]
    }
   ],
   "source": [
    "import pandas as pd\n",
    "import matplotlib.pyplot as plt\n",
    "import numpy as np\n",
    "\n",
    "data = pd.read_csv('used_cars_data.csv')\n",
    "\n",
    "print(data.head(5))"
   ]
  },
  {
   "cell_type": "code",
   "execution_count": 5,
   "id": "c2992244",
   "metadata": {},
   "outputs": [
    {
     "name": "stdout",
     "output_type": "stream",
     "text": [
      "      S.No.                                               Name   Location  \\\n",
      "7248   7248                  Volkswagen Vento Diesel Trendline  Hyderabad   \n",
      "7249   7249                             Volkswagen Polo GT TSI     Mumbai   \n",
      "7250   7250                             Nissan Micra Diesel XV    Kolkata   \n",
      "7251   7251                             Volkswagen Polo GT TSI       Pune   \n",
      "7252   7252  Mercedes-Benz E-Class 2009-2013 E 220 CDI Avan...      Kochi   \n",
      "\n",
      "      Year  Kilometers_Driven Fuel_Type Transmission Owner_Type     Mileage  \\\n",
      "7248  2011              89411    Diesel       Manual      First  20.54 kmpl   \n",
      "7249  2015              59000    Petrol    Automatic      First  17.21 kmpl   \n",
      "7250  2012              28000    Diesel       Manual      First  23.08 kmpl   \n",
      "7251  2013              52262    Petrol    Automatic      Third   17.2 kmpl   \n",
      "7252  2014              72443    Diesel    Automatic      First   10.0 kmpl   \n",
      "\n",
      "       Engine      Power  Seats New_Price  Price  \n",
      "7248  1598 CC  103.6 bhp    5.0       NaN    NaN  \n",
      "7249  1197 CC  103.6 bhp    5.0       NaN    NaN  \n",
      "7250  1461 CC   63.1 bhp    5.0       NaN    NaN  \n",
      "7251  1197 CC  103.6 bhp    5.0       NaN    NaN  \n",
      "7252  2148 CC    170 bhp    5.0       NaN    NaN  \n"
     ]
    }
   ],
   "source": [
    "print(data.tail(5))"
   ]
  },
  {
   "cell_type": "code",
   "execution_count": 6,
   "id": "ef863821",
   "metadata": {},
   "outputs": [
    {
     "name": "stdout",
     "output_type": "stream",
     "text": [
      "<class 'pandas.core.frame.DataFrame'>\n",
      "RangeIndex: 7253 entries, 0 to 7252\n",
      "Data columns (total 14 columns):\n",
      " #   Column             Non-Null Count  Dtype  \n",
      "---  ------             --------------  -----  \n",
      " 0   S.No.              7253 non-null   int64  \n",
      " 1   Name               7253 non-null   object \n",
      " 2   Location           7253 non-null   object \n",
      " 3   Year               7253 non-null   int64  \n",
      " 4   Kilometers_Driven  7253 non-null   int64  \n",
      " 5   Fuel_Type          7253 non-null   object \n",
      " 6   Transmission       7253 non-null   object \n",
      " 7   Owner_Type         7253 non-null   object \n",
      " 8   Mileage            7251 non-null   object \n",
      " 9   Engine             7207 non-null   object \n",
      " 10  Power              7207 non-null   object \n",
      " 11  Seats              7200 non-null   float64\n",
      " 12  New_Price          1006 non-null   object \n",
      " 13  Price              6019 non-null   float64\n",
      "dtypes: float64(2), int64(3), object(9)\n",
      "memory usage: 793.4+ KB\n",
      "None\n"
     ]
    }
   ],
   "source": [
    "print(data.info())"
   ]
  },
  {
   "cell_type": "code",
   "execution_count": 7,
   "id": "ffc51125",
   "metadata": {},
   "outputs": [
    {
     "data": {
      "text/plain": [
       "S.No.                0.000000\n",
       "Name                 0.000000\n",
       "Location             0.000000\n",
       "Year                 0.000000\n",
       "Kilometers_Driven    0.000000\n",
       "Fuel_Type            0.000000\n",
       "Transmission         0.000000\n",
       "Owner_Type           0.000000\n",
       "Mileage              0.000276\n",
       "Engine               0.006342\n",
       "Power                0.006342\n",
       "Seats                0.007307\n",
       "New_Price            0.861299\n",
       "Price                0.170136\n",
       "dtype: float64"
      ]
     },
     "execution_count": 7,
     "metadata": {},
     "output_type": "execute_result"
    }
   ],
   "source": [
    "(data.isnull().sum()/(len(data)))*1\n"
   ]
  },
  {
   "cell_type": "code",
   "execution_count": 8,
   "id": "89ff746e",
   "metadata": {},
   "outputs": [
    {
     "data": {
      "text/plain": [
       "S.No.                   0\n",
       "Name                    0\n",
       "Location                0\n",
       "Year                    0\n",
       "Kilometers_Driven       0\n",
       "Fuel_Type               0\n",
       "Transmission            0\n",
       "Owner_Type              0\n",
       "Mileage                 2\n",
       "Engine                 46\n",
       "Power                  46\n",
       "Seats                  53\n",
       "New_Price            6247\n",
       "Price                1234\n",
       "dtype: int64"
      ]
     },
     "execution_count": 8,
     "metadata": {},
     "output_type": "execute_result"
    }
   ],
   "source": [
    "data.isnull().sum()"
   ]
  },
  {
   "cell_type": "code",
   "execution_count": 9,
   "id": "d9bb7ba3",
   "metadata": {},
   "outputs": [
    {
     "name": "stdout",
     "output_type": "stream",
     "text": [
      "<class 'pandas.core.frame.DataFrame'>\n",
      "RangeIndex: 7253 entries, 0 to 7252\n",
      "Data columns (total 13 columns):\n",
      " #   Column             Non-Null Count  Dtype  \n",
      "---  ------             --------------  -----  \n",
      " 0   Name               7253 non-null   object \n",
      " 1   Location           7253 non-null   object \n",
      " 2   Year               7253 non-null   int64  \n",
      " 3   Kilometers_Driven  7253 non-null   int64  \n",
      " 4   Fuel_Type          7253 non-null   object \n",
      " 5   Transmission       7253 non-null   object \n",
      " 6   Owner_Type         7253 non-null   object \n",
      " 7   Mileage            7251 non-null   object \n",
      " 8   Engine             7207 non-null   object \n",
      " 9   Power              7207 non-null   object \n",
      " 10  Seats              7200 non-null   float64\n",
      " 11  New_Price          1006 non-null   object \n",
      " 12  Price              6019 non-null   float64\n",
      "dtypes: float64(2), int64(2), object(9)\n",
      "memory usage: 736.8+ KB\n"
     ]
    }
   ],
   "source": [
    "data = data.drop(['S.No.'],axis=1)\n",
    "data.info()"
   ]
  },
  {
   "cell_type": "code",
   "execution_count": 10,
   "id": "16e55b81",
   "metadata": {},
   "outputs": [
    {
     "name": "stdout",
     "output_type": "stream",
     "text": [
      "<class 'pandas.core.frame.DataFrame'>\n",
      "RangeIndex: 7253 entries, 0 to 7252\n",
      "Data columns (total 15 columns):\n",
      " #   Column             Non-Null Count  Dtype  \n",
      "---  ------             --------------  -----  \n",
      " 0   Name               7253 non-null   object \n",
      " 1   Location           7253 non-null   object \n",
      " 2   Year               7253 non-null   int64  \n",
      " 3   Kilometers_Driven  7253 non-null   int64  \n",
      " 4   Fuel_Type          7253 non-null   object \n",
      " 5   Transmission       7253 non-null   object \n",
      " 6   Owner_Type         7253 non-null   object \n",
      " 7   Mileage            7251 non-null   object \n",
      " 8   Engine             7207 non-null   object \n",
      " 9   Power              7207 non-null   object \n",
      " 10  Seats              7200 non-null   float64\n",
      " 11  New_Price          1006 non-null   object \n",
      " 12  Price              6019 non-null   float64\n",
      " 13  Age                7253 non-null   int64  \n",
      " 14  Brand              7253 non-null   object \n",
      "dtypes: float64(2), int64(3), object(10)\n",
      "memory usage: 850.1+ KB\n",
      "None\n"
     ]
    }
   ],
   "source": [
    "import datetime as date\n",
    "\n",
    "data['Age'] = date.datetime.today().year - data['Year']\n",
    "data['Brand'] = data.Name.str.split().str.get(0)\n",
    "\n",
    "print(data.info())"
   ]
  },
  {
   "cell_type": "code",
   "execution_count": 11,
   "id": "4163aa40",
   "metadata": {},
   "outputs": [
    {
     "name": "stdout",
     "output_type": "stream",
     "text": [
      "                                                   Name          Brand\n",
      "0                                Maruti Wagon R LXI CNG         Maruti\n",
      "1                      Hyundai Creta 1.6 CRDi SX Option        Hyundai\n",
      "2                                          Honda Jazz V          Honda\n",
      "3                                     Maruti Ertiga VDI         Maruti\n",
      "4                       Audi A4 New 2.0 TDI Multitronic           Audi\n",
      "...                                                 ...            ...\n",
      "7248                  Volkswagen Vento Diesel Trendline     Volkswagen\n",
      "7249                             Volkswagen Polo GT TSI     Volkswagen\n",
      "7250                             Nissan Micra Diesel XV         Nissan\n",
      "7251                             Volkswagen Polo GT TSI     Volkswagen\n",
      "7252  Mercedes-Benz E-Class 2009-2013 E 220 CDI Avan...  Mercedes-Benz\n",
      "\n",
      "[7253 rows x 2 columns]\n"
     ]
    }
   ],
   "source": [
    "print(data[['Name','Brand']])"
   ]
  },
  {
   "cell_type": "code",
   "execution_count": 12,
   "id": "588d1f6c",
   "metadata": {},
   "outputs": [
    {
     "name": "stdout",
     "output_type": "stream",
     "text": [
      "['Maruti' 'Hyundai' 'Honda' 'Audi' 'Nissan' 'Toyota' 'Volkswagen' 'Tata'\n",
      " 'Land' 'Mitsubishi' 'Renault' 'Mercedes-Benz' 'BMW' 'Mahindra' 'Ford'\n",
      " 'Porsche' 'Datsun' 'Jaguar' 'Volvo' 'Chevrolet' 'Skoda' 'Mini' 'Fiat'\n",
      " 'Jeep' 'Smart' 'Ambassador' 'Isuzu' 'ISUZU' 'Force' 'Bentley'\n",
      " 'Lamborghini' 'Hindustan' 'OpelCorsa']\n"
     ]
    }
   ],
   "source": [
    "print(data.Brand.unique())"
   ]
  },
  {
   "cell_type": "code",
   "execution_count": 13,
   "id": "ba77afdb",
   "metadata": {},
   "outputs": [
    {
     "name": "stdout",
     "output_type": "stream",
     "text": [
      "                                    Name    Location  Year  Kilometers_Driven  \\\n",
      "13      Land Rover Range Rover 2.2L Pure       Delhi  2014              72000   \n",
      "14        Land Rover Freelander 2 TD4 SE        Pune  2012              85000   \n",
      "176             Mini Countryman Cooper D      Jaipur  2017               8525   \n",
      "191  Land Rover Range Rover 2.2L Dynamic  Coimbatore  2018              36091   \n",
      "228            Mini Cooper Convertible S       Kochi  2017              26327   \n",
      "\n",
      "    Fuel_Type Transmission Owner_Type     Mileage   Engine       Power  Seats  \\\n",
      "13     Diesel    Automatic      First   12.7 kmpl  2179 CC   187.7 bhp    5.0   \n",
      "14     Diesel    Automatic     Second    0.0 kmpl  2179 CC     115 bhp    5.0   \n",
      "176    Diesel    Automatic     Second   16.6 kmpl  1998 CC     112 bhp    5.0   \n",
      "191    Diesel    Automatic      First   12.7 kmpl  2179 CC   187.7 bhp    5.0   \n",
      "228    Petrol    Automatic      First  16.82 kmpl  1998 CC  189.08 bhp    4.0   \n",
      "\n",
      "      New_Price  Price  Age Brand  \n",
      "13          NaN  27.00   11  Land  \n",
      "14          NaN  17.50   13  Land  \n",
      "176         NaN  23.00    8  Mini  \n",
      "191         NaN  55.76    7  Land  \n",
      "228  44.28 Lakh  35.67    8  Mini  \n"
     ]
    }
   ],
   "source": [
    "searchfor = ['Isuzu','ISUZU','Mini','Land']\n",
    "print(data[data.Brand.str.contains('|'.join(searchfor))].head(5))"
   ]
  },
  {
   "cell_type": "code",
   "execution_count": 15,
   "id": "2438dae0",
   "metadata": {},
   "outputs": [
    {
     "data": {
      "text/html": [
       "<div>\n",
       "<style scoped>\n",
       "    .dataframe tbody tr th:only-of-type {\n",
       "        vertical-align: middle;\n",
       "    }\n",
       "\n",
       "    .dataframe tbody tr th {\n",
       "        vertical-align: top;\n",
       "    }\n",
       "\n",
       "    .dataframe thead th {\n",
       "        text-align: right;\n",
       "    }\n",
       "</style>\n",
       "<table border=\"1\" class=\"dataframe\">\n",
       "  <thead>\n",
       "    <tr style=\"text-align: right;\">\n",
       "      <th></th>\n",
       "      <th>count</th>\n",
       "      <th>mean</th>\n",
       "      <th>std</th>\n",
       "      <th>min</th>\n",
       "      <th>25%</th>\n",
       "      <th>50%</th>\n",
       "      <th>75%</th>\n",
       "      <th>max</th>\n",
       "    </tr>\n",
       "  </thead>\n",
       "  <tbody>\n",
       "    <tr>\n",
       "      <th>Year</th>\n",
       "      <td>7253.0</td>\n",
       "      <td>2013.365366</td>\n",
       "      <td>3.254421</td>\n",
       "      <td>1996.00</td>\n",
       "      <td>2011.0</td>\n",
       "      <td>2014.00</td>\n",
       "      <td>2016.00</td>\n",
       "      <td>2019.0</td>\n",
       "    </tr>\n",
       "    <tr>\n",
       "      <th>Kilometers_Driven</th>\n",
       "      <td>7253.0</td>\n",
       "      <td>58699.063146</td>\n",
       "      <td>84427.720583</td>\n",
       "      <td>171.00</td>\n",
       "      <td>34000.0</td>\n",
       "      <td>53416.00</td>\n",
       "      <td>73000.00</td>\n",
       "      <td>6500000.0</td>\n",
       "    </tr>\n",
       "    <tr>\n",
       "      <th>Seats</th>\n",
       "      <td>7200.0</td>\n",
       "      <td>5.279722</td>\n",
       "      <td>0.811660</td>\n",
       "      <td>0.00</td>\n",
       "      <td>5.0</td>\n",
       "      <td>5.00</td>\n",
       "      <td>5.00</td>\n",
       "      <td>10.0</td>\n",
       "    </tr>\n",
       "    <tr>\n",
       "      <th>Price</th>\n",
       "      <td>6019.0</td>\n",
       "      <td>9.479468</td>\n",
       "      <td>11.187917</td>\n",
       "      <td>0.44</td>\n",
       "      <td>3.5</td>\n",
       "      <td>5.64</td>\n",
       "      <td>9.95</td>\n",
       "      <td>160.0</td>\n",
       "    </tr>\n",
       "    <tr>\n",
       "      <th>Age</th>\n",
       "      <td>7253.0</td>\n",
       "      <td>11.634634</td>\n",
       "      <td>3.254421</td>\n",
       "      <td>6.00</td>\n",
       "      <td>9.0</td>\n",
       "      <td>11.00</td>\n",
       "      <td>14.00</td>\n",
       "      <td>29.0</td>\n",
       "    </tr>\n",
       "  </tbody>\n",
       "</table>\n",
       "</div>"
      ],
      "text/plain": [
       "                    count          mean           std      min      25%  \\\n",
       "Year               7253.0   2013.365366      3.254421  1996.00   2011.0   \n",
       "Kilometers_Driven  7253.0  58699.063146  84427.720583   171.00  34000.0   \n",
       "Seats              7200.0      5.279722      0.811660     0.00      5.0   \n",
       "Price              6019.0      9.479468     11.187917     0.44      3.5   \n",
       "Age                7253.0     11.634634      3.254421     6.00      9.0   \n",
       "\n",
       "                        50%       75%        max  \n",
       "Year                2014.00   2016.00     2019.0  \n",
       "Kilometers_Driven  53416.00  73000.00  6500000.0  \n",
       "Seats                  5.00      5.00       10.0  \n",
       "Price                  5.64      9.95      160.0  \n",
       "Age                   11.00     14.00       29.0  "
      ]
     },
     "execution_count": 15,
     "metadata": {},
     "output_type": "execute_result"
    }
   ],
   "source": [
    "data.describe().T"
   ]
  },
  {
   "cell_type": "code",
   "execution_count": 17,
   "id": "0c659bea",
   "metadata": {},
   "outputs": [
    {
     "name": "stdout",
     "output_type": "stream",
     "text": [
      "Categorical Variables:\n",
      "Index(['Name', 'Location', 'Fuel_Type', 'Transmission', 'Owner_Type',\n",
      "       'Mileage', 'Engine', 'Power', 'New_Price', 'Brand'],\n",
      "      dtype='object')\n",
      "Numerical Variables:\n",
      "['Year', 'Kilometers_Driven', 'Seats', 'Price', 'Age']\n"
     ]
    }
   ],
   "source": [
    "cat_cols=data.select_dtypes(include=['object']).columns\n",
    "num_cols = data.select_dtypes(include=np.number).columns.tolist()\n",
    "print(\"Categorical Variables:\")\n",
    "print(cat_cols)\n",
    "print(\"Numerical Variables:\")\n",
    "print(num_cols)"
   ]
  },
  {
   "cell_type": "code",
   "execution_count": 28,
   "id": "bebcbf3c",
   "metadata": {},
   "outputs": [
    {
     "data": {
      "image/png": "[encoded data removed]",
      "text/plain": [
       "<Figure size 800x500 with 1 Axes>"
      ]
     },
     "metadata": {},
     "output_type": "display_data"
    }
   ],
   "source": [
    "df = pd.read_csv(\"used_cars_data.csv\")\n",
    "\n",
    "fuel_cou = {}\n",
    "\n",
    "for fuel in df['Fuel_Type']:\n",
    "    if fuel in fuel_cou:\n",
    "        fuel_cou[fuel] += 1\n",
    "    else:\n",
    "        fuel_cou[fuel] = 1\n",
    "\n",
    "fuel_types = list(fuel_cou.keys())\n",
    "counts = list(fuel_cou.values())\n",
    "\n",
    "plt.figure(figsize=(8, 5))\n",
    "plt.bar(fuel_types, counts, color='skyblue')\n",
    "plt.xlabel(\"Fuel Type\")\n",
    "plt.ylabel(\"Number of Cars\")\n",
    "plt.title(\"Car Count by Fuel Type\")\n",
    "plt.grid(axis='y', linestyle='--')\n",
    "plt.show()"
   ]
  },
  {
   "cell_type": "code",
   "execution_count": null,
   "id": "f9f1a49c",
   "metadata": {},
   "outputs": [
    {
     "data": {
      "image/png": "[encoded data removed]",
      "text/plain": [
       "<Figure size 800x500 with 1 Axes>"
      ]
     },
     "metadata": {},
     "output_type": "display_data"
    }
   ],
   "source": [
    "df = pd.read_csv(\"used_cars_data.csv\")\n",
    "\n",
    "data.Fuel_Type.value_counts()\n",
    "\n",
    "plt.figure(figsize=(8, 5))\n",
    "plt.bar(fuel_types, counts, color='skyblue')\n",
    "plt.xlabel(\"Fuel Type\")\n",
    "plt.ylabel(\"Number of Cars\")\n",
    "plt.title(\"Car Count by Fuel Type\")\n",
    "plt.grid(axis='y', linestyle='--')\n",
    "plt.show()"
   ]
  },
  {
   "cell_type": "code",
   "execution_count": 40,
   "id": "1e4028f1",
   "metadata": {},
   "outputs": [
    {
     "data": {
      "image/png": "[encoded data removed]",
      "text/plain": [
       "<Figure size 640x480 with 1 Axes>"
      ]
     },
     "metadata": {},
     "output_type": "display_data"
    }
   ],
   "source": [
    "count = data['Transmission'].value_counts()\n",
    "\n",
    "labels = count.index\n",
    "\n",
    "color = ['cyan','blue']\n",
    "\n",
    "plt.pie(count,labels=labels,colors=color)\n",
    "plt.title(\"Car Count by Fuel Type\")\n",
    "plt.axis('equal')\n",
    "plt.show()"
   ]
  },
  {
   "cell_type": "code",
   "execution_count": null,
   "id": "68a8ea28",
   "metadata": {},
   "outputs": [],
   "source": [
    "#histogram\n",
    "\n",
    "plt.figure(figsize=(10, 6))"
   ]
  }
 ],
 "metadata": {
  "kernelspec": {
   "display_name": "Python 3",
   "language": "python",
   "name": "python3"
  },
  "language_info": {
   "codemirror_mode": {
    "name": "ipython",
    "version": 3
   },
   "file_extension": ".py",
   "mimetype": "text/x-python",
   "name": "python",
   "nbconvert_exporter": "python",
   "pygments_lexer": "ipython3",
   "version": "3.13.3"
  }
 },
 "nbformat": 4,
 "nbformat_minor": 5
}
